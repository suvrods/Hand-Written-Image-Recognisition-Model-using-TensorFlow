{
 "cells": [
  {
   "cell_type": "markdown",
   "id": "46504642",
   "metadata": {},
   "source": [
    "Importing TensorFlow library"
   ]
  },
  {
   "cell_type": "code",
   "execution_count": 1,
   "id": "9e1d6282",
   "metadata": {},
   "outputs": [
    {
     "data": {
      "text/plain": [
       "'2.9.1'"
      ]
     },
     "execution_count": 1,
     "metadata": {},
     "output_type": "execute_result"
    }
   ],
   "source": [
    "import tensorflow as tf\n",
    "\n",
    "tf.__version__"
   ]
  },
  {
   "cell_type": "markdown",
   "id": "c5c1a2b9",
   "metadata": {},
   "source": [
    "Loading Dataset(mnist) which is a set of handwritten numeric(0-9) images with 28x28 pixels"
   ]
  },
  {
   "cell_type": "code",
   "execution_count": 12,
   "id": "93d733f1",
   "metadata": {},
   "outputs": [],
   "source": [
    "mnist = tf.keras.datasets.mnist\n",
    "(X_train,y_train), (X_test,y_test) = mnist.load_data()\n",
    "\n",
    "X_train = tf.keras.utils.normalize(X_train,axis=1)\n",
    "X_test = tf.keras.utils.normalize(X_test,axis=1)"
   ]
  },
  {
   "cell_type": "markdown",
   "id": "b24b18b1",
   "metadata": {},
   "source": [
    "Training and Testing components (X and y) are multidimensional array each index contain one image of single digit number"
   ]
  },
  {
   "cell_type": "code",
   "execution_count": 15,
   "id": "00658528",
   "metadata": {},
   "outputs": [
    {
     "data": {
      "text/plain": [
       "<matplotlib.image.AxesImage at 0x20504232580>"
      ]
     },
     "execution_count": 15,
     "metadata": {},
     "output_type": "execute_result"
    },
    {
     "data": {
      "image/png": "[encoded data removed]",
      "text/plain": [
       "<Figure size 432x288 with 1 Axes>"
      ]
     },
     "metadata": {
      "needs_background": "light"
     },
     "output_type": "display_data"
    }
   ],
   "source": [
    "#print(X_train[0])\n",
    "import matplotlib.pyplot as plt\n",
    "%matplotlib inline\n",
    "\n",
    "plt.imshow(X_train[0],cmap=plt.cm.binary)"
   ]
  },
  {
   "cell_type": "markdown",
   "id": "1247d0d9",
   "metadata": {},
   "source": [
    "Defining the neural network model "
   ]
  },
  {
   "cell_type": "code",
   "execution_count": 17,
   "id": "5abd4cec",
   "metadata": {},
   "outputs": [
    {
     "name": "stdout",
     "output_type": "stream",
     "text": [
      "Epoch 1/3\n",
      "1875/1875 [==============================] - 9s 3ms/step - loss: 0.2568 - accuracy: 0.9250\n",
      "Epoch 2/3\n",
      "1875/1875 [==============================] - 5s 3ms/step - loss: 0.1039 - accuracy: 0.9676\n",
      "Epoch 3/3\n",
      "1875/1875 [==============================] - 5s 3ms/step - loss: 0.0697 - accuracy: 0.9781\n"
     ]
    },
    {
     "data": {
      "text/plain": [
       "<keras.callbacks.History at 0x20502192d30>"
      ]
     },
     "execution_count": 17,
     "metadata": {},
     "output_type": "execute_result"
    }
   ],
   "source": [
    "model = tf.keras.models.Sequential()\n",
    "model.add(tf.keras.layers.Flatten())\n",
    "model.add(tf.keras.layers.Dense(128,activation=tf.nn.relu))\n",
    "model.add(tf.keras.layers.Dense(128,activation=tf.nn.relu))\n",
    "model.add(tf.keras.layers.Dense(10,activation=tf.nn.softmax))\n",
    "\n",
    "model.compile(optimizer='adam', loss='sparse_categorical_crossentropy',metrics=['accuracy'])\n",
    "model.fit(X_train,y_train,epochs=3)"
   ]
  },
  {
   "cell_type": "markdown",
   "id": "b1754fe8",
   "metadata": {},
   "source": [
    "Checking for overfitting of the model(one should always aim to build a generalized model that performs well in both training and testing phase)"
   ]
  },
  {
   "cell_type": "code",
   "execution_count": 18,
   "id": "fefa9ba9",
   "metadata": {},
   "outputs": [
    {
     "name": "stdout",
     "output_type": "stream",
     "text": [
      "313/313 [==============================] - 11s 3ms/step - loss: 0.0876 - accuracy: 0.9724\n",
      "0.08760085701942444 0.9724000096321106\n"
     ]
    }
   ],
   "source": [
    "val_loss, val_accuracy = model.evaluate(X_test,y_test)\n",
    "print(val_loss,val_accuracy)"
   ]
  },
  {
   "cell_type": "code",
   "execution_count": 20,
   "id": "93df58ad",
   "metadata": {},
   "outputs": [
    {
     "name": "stdout",
     "output_type": "stream",
     "text": [
      "WARNING:tensorflow:Layers in a Sequential model should only have a single input tensor. Received: inputs=(<tf.Tensor 'IteratorGetNext:0' shape=(None, 28, 28) dtype=float32>,). Consider rewriting this model with the Functional API.\n",
      "313/313 [==============================] - 1s 2ms/step\n",
      "[[1.89577221e-09 1.52611833e-07 4.62302387e-06 ... 9.99841213e-01\n",
      "  5.37437984e-07 8.81406686e-06]\n",
      " [1.48947166e-09 9.18485021e-05 9.99897003e-01 ... 5.21775845e-10\n",
      "  5.19001127e-08 3.79638866e-13]\n",
      " [1.07845301e-06 9.99482870e-01 3.39368620e-04 ... 3.49632282e-05\n",
      "  3.36877129e-05 1.00949228e-06]\n",
      " ...\n",
      " [1.86355891e-08 8.54864624e-08 4.21902172e-07 ... 3.26727313e-05\n",
      "  2.64145456e-06 9.14707198e-05]\n",
      " [7.58421876e-08 1.85464160e-07 1.13635870e-07 ... 4.34414346e-07\n",
      "  1.69415504e-03 3.66458650e-08]\n",
      " [1.44938695e-05 5.34606714e-09 2.45149625e-08 ... 3.62111625e-11\n",
      "  4.75811355e-08 2.72080802e-09]]\n"
     ]
    }
   ],
   "source": [
    "predictions = model.predict([X_test])\n",
    "print(predictions)"
   ]
  },
  {
   "cell_type": "markdown",
   "id": "ddefcbb9",
   "metadata": {},
   "source": [
    "Numpy is used for the better understanding of outcome of the model. Prediction gives an output of array each number represting \n",
    "the probability of occurance of a particular hand-written digit"
   ]
  },
  {
   "cell_type": "code",
   "execution_count": 22,
   "id": "df8be421",
   "metadata": {},
   "outputs": [
    {
     "name": "stdout",
     "output_type": "stream",
     "text": [
      "7\n"
     ]
    }
   ],
   "source": [
    "import numpy as np\n",
    "\n",
    "model_out = np.argmax(predictions[0])\n",
    "print(model_out)"
   ]
  },
  {
   "cell_type": "code",
   "execution_count": 23,
   "id": "58334f74",
   "metadata": {},
   "outputs": [
    {
     "data": {
      "image/png": "[encoded data removed]",
      "text/plain": [
       "<Figure size 432x288 with 1 Axes>"
      ]
     },
     "metadata": {
      "needs_background": "light"
     },
     "output_type": "display_data"
    }
   ],
   "source": [
    "#Validation with the original\n",
    "\n",
    "plt.imshow(X_test[0])\n",
    "plt.show()"
   ]
  },
  {
   "cell_type": "code",
   "execution_count": 24,
   "id": "998cf12b",
   "metadata": {},
   "outputs": [
    {
     "name": "stdout",
     "output_type": "stream",
     "text": [
      "0\n"
     ]
    }
   ],
   "source": [
    "print(np.argmax(predictions[3]))"
   ]
  },
  {
   "cell_type": "code",
   "execution_count": 26,
   "id": "eb8abf79",
   "metadata": {},
   "outputs": [
    {
     "data": {
      "image/png": "[encoded data removed]",
      "text/plain": [
       "<Figure size 432x288 with 1 Axes>"
      ]
     },
     "metadata": {
      "needs_background": "light"
     },
     "output_type": "display_data"
    }
   ],
   "source": [
    "plt.imshow(X_test[3],cmap=plt.cm.binary)\n",
    "plt.show()"
   ]
  },
  {
   "cell_type": "markdown",
   "id": "5495a7c2",
   "metadata": {},
   "source": [
    "Saving the model for future use."
   ]
  },
  {
   "cell_type": "code",
   "execution_count": 27,
   "id": "1e4704b0",
   "metadata": {},
   "outputs": [
    {
     "name": "stdout",
     "output_type": "stream",
     "text": [
      "INFO:tensorflow:Assets written to: test_number_reader.model\\assets\n"
     ]
    }
   ],
   "source": [
    "model.save(\"test_number_reader.model\")"
   ]
  }
 ],
 "metadata": {
  "kernelspec": {
   "display_name": "Python 3 (ipykernel)",
   "language": "python",
   "name": "python3"
  },
  "language_info": {
   "codemirror_mode": {
    "name": "ipython",
    "version": 3
   },
   "file_extension": ".py",
   "mimetype": "text/x-python",
   "name": "python",
   "nbconvert_exporter": "python",
   "pygments_lexer": "ipython3",
   "version": "3.9.7"
  }
 },
 "nbformat": 4,
 "nbformat_minor": 5
}
